{
 "cells": [
  {
   "cell_type": "code",
   "execution_count": null,
   "id": "9f6438f1-487b-48c3-ba9b-f39f066ba615",
   "metadata": {},
   "outputs": [],
   "source": [
    "import requests\n",
    "import json\n",
    "import pandas as pd\n",
    "from IngestionService import APIRequest, APIData\n",
    "import os\n",
    "import sqlalchemy\n",
    "import boto3\n",
    "\n",
    "# Endpoint to National Renewable Energy Laboratory\n",
    "endpoint = 'https://developer.nrel.gov/api/alt-fuel-stations/v1.json'\n",
    "\n",
    "# Define the parameters for the API request\n",
    "params = {\n",
    "    'limit': 'all',\n",
    "    'fuel_type': 'ELEC'\n",
    "}\n",
    "\n",
    "\n",
    "API_KEY = os.getenv('API_KEY')\n",
    "ACCESS_KEY = os.getenv('ACCESS_KEY')\n",
    "SECRET_KEY = os.getenv('SECRET_KEY')\n",
    "bucket = os.getenv('bucket')\n",
    "bucketobj = os.getenv('bucketobj')\n",
    "\n",
    "# Ingest Object\n",
    "client = APIRequest(endpoint, api_key=os.environ['API_KEY'])\n",
    "data = client.make_request('GET', appendKey=True, data=params)\n",
    "dataClient = APIData(bucket=bucket, ACCESS_KEY=ACCESS_KEY, SECRET_KEY=SECRET_KEY)\n",
    "dataClient.load_data(data, dataType='dict')\n",
    "dataClient.generate_metadata()\n",
    "dataClient.upload_data(Key=bucketobj)\n",
    "\n",
    "def lambda_handler(event, context):\n",
    "    # TODO implement\n",
    "    return {\n",
    "        'statusCode': 200\n",
    "    }"
   ]
  }
 ],
 "metadata": {
  "kernelspec": {
   "display_name": "Python 3 (ipykernel)",
   "language": "python",
   "name": "python3"
  },
  "language_info": {
   "codemirror_mode": {
    "name": "ipython",
    "version": 3
   },
   "file_extension": ".py",
   "mimetype": "text/x-python",
   "name": "python",
   "nbconvert_exporter": "python",
   "pygments_lexer": "ipython3",
   "version": "3.12.0"
  }
 },
 "nbformat": 4,
 "nbformat_minor": 5
}
