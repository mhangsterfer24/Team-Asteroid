{
 "cells": [
  {
   "cell_type": "code",
   "execution_count": null,
   "id": "b2b5a380-83ec-462e-8caf-dd233e220366",
   "metadata": {},
   "outputs": [],
   "source": [
    "import requests\n",
    "import json\n",
    "import pandas as pd\n",
    "import numpy as np\n",
    "from IngestionService import APIRequest, APIData\n",
    "from Process import ProcessData\n",
    "import os\n",
    "import sqlalchemy\n",
    "from sqlalchemy import create_engine\n",
    "\n",
    "#bucket and bucket objects\n",
    "bucket = os.getenv('bucket')\n",
    "bucketobj = os.getenv('bucketobj')\n",
    "\n",
    "# Class to get data from S3\n",
    "dataClient = APIData(bucket=bucket, ACCESS_KEY=os.getenv('ACCESS_KEY'), SECRET_KEY=os.getenv('SECRET_KEY'))\n",
    "\n",
    "# Class to clean data from S3 and put into RDS\n",
    "clean = ProcessData(bucket=bucket, ACCESS_KEY=os.getenv('ACCESS_KEY'), SECRET_KEY=os.getenv('SECRET_KEY'))\n",
    "\n",
    "# Data comes down from s3 in bytes fromat\n",
    "s3response = clean.download_data(bucket, bucketobj)\n",
    "\n",
    "# Data into dictionary format from bytes format\n",
    "decode = json.loads(s3response.decode('utf-8'))\n",
    "\n",
    "# data in list format\n",
    "dirty = decode['fuel_stations']\n",
    "\n",
    "# Returns dataframe of data\n",
    "ready = clean.dict_df(dirty)\n",
    "\n",
    "# DEFINE THE DATABASE CREDENTIALS\n",
    "user = os.getenv('user')\n",
    "password = os.getenv('password')\n",
    "host = os.getenv('host')\n",
    "database = os.getenv('database')\n",
    "port = os.getenv('port')\n",
    "tablename = os.getenv('tablename')\n",
    "\n",
    "df = ready[['latitude', 'longitude', 'city','intersection_directions', 'plus4', 'state', 'street_address', 'zip','country']]\n",
    "\n",
    "up = clean.upload_data(user, password, host, database, port, tablename, df)\n",
    "\n",
    "def lambda_handler(event, context):\n",
    "    return {\n",
    "        'statusCode': 200,\n",
    "    }"
   ]
  }
 ],
 "metadata": {
  "kernelspec": {
   "display_name": "Python 3 (ipykernel)",
   "language": "python",
   "name": "python3"
  },
  "language_info": {
   "codemirror_mode": {
    "name": "ipython",
    "version": 3
   },
   "file_extension": ".py",
   "mimetype": "text/x-python",
   "name": "python",
   "nbconvert_exporter": "python",
   "pygments_lexer": "ipython3",
   "version": "3.12.0"
  }
 },
 "nbformat": 4,
 "nbformat_minor": 5
}
